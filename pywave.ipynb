{
  "cells": [
    {
      "cell_type": "markdown",
      "source": [
        "# **Pywave**\n",
        "**Author: Jason Emmanuel**\n",
        "\n",
        "Pywave merupakan contoh nyata dari fleksibilitas dan kekuatan Python dalam menciptakan aplikasi praktis. Dengan memanfaatkan modul seperti IPython dan os, Pywave menyediakan antarmuka yang ramah pengguna untuk memutar musik yang tersimpan secara lokal. Dengan desain yang sederhana, pengguna dapat dengan mudah menjelajahi perpustakaan musik mereka, memilih trek yang diinginkan, dan larut dalam alunan melodi pilihan mereka.\n",
        "\n",
        "Mari kita telusuri lebih dalam bagaimana Pywave bekerja:\n",
        "\n",
        "## **Inisialisasi:**\n",
        "Saat diinstansiasi, objek **MusicPlayer** dikonfigurasi dengan path folder musik default. Path ini dapat disesuaikan sesuai dengan preferensi pengguna, memberikan fleksibilitas dalam mengelola koleksi musik mereka.\n",
        "\n",
        "## **Menampilkan Daftar Musik:**\n",
        "Metode **display_music_list()** berfungsi sebagai gerbang menuju alam semesta musik pengguna. Dengan memanggil fungsi ini, Pywave menampilkan daftar trek yang tersedia secara rapi. Setiap lagu disertai dengan indeks yang sesuai, memungkinkan pengguna untuk mengidentifikasi dan memilih lagu yang diinginkan dengan mudah.\n",
        "\n",
        "## **Memutar Musik**\n",
        "Setelah pemilihan dilakukan, Pywave langsung beraksi dengan metode **play_music(index)**. Dengan menentukan indeks trek yang dipilih, pengguna memulai proses pemutaran. Pywave secara mulus mengambil file MP3 yang sesuai dari folder yang ditentukan dan menggunakan modul IPython untuk menghasilkan suara yang memikat melalui antarmuka audio. Dari ritme yang energik hingga melodi yang penuh emosi, Pywave memberikan pengalaman audio yang mendalam sesuai dengan preferensi pengguna.\n",
        "\n",
        "## **Interaksi Pengguna:**\n",
        "Di pusat Pywave terletak dedikasinya terhadap kenyamanan pengguna. Melalui petunjuk intuitif dan instruksi yang jelas, pengguna dipandu melalui proses pemilihan musik. Baik melalui antarmuka baris perintah maupun antarmuka pengguna grafis, Pywave memastikan bahwa pengguna dapat dengan mudah menjelajahi perpustakaan musik mereka dan menikmati trek favorit mereka dengan santai.\n",
        "\n",
        "## **Kemampuan untuk Diperluas:**\n",
        "Meskipun Pywave unggul dalam kesederhanaannya, potensinya untuk berkembang tidak terbatas. Pengembang dapat meningkatkan fungsionalitas Pywave dengan mengintegrasikan fitur tambahan seperti manajemen daftar putar, kemampuan acak, atau bahkan integrasi dengan layanan streaming musik online. Dengan merangkul modularitas dan kemampuan untuk diperluas, Pywave dapat berkembang menjadi pemutar musik komprehensif yang disesuaikan dengan kebutuhan yang beragam dari para pengguna.\n",
        "\n",
        "Pada intinya, Pywave mencerminkan ethos Python - kesederhanaan, fleksibilitas, dan desain yang berorientasi pada pengguna. Saat pengguna memulai perjalanan musik mereka dengan Pywave, mereka didorong untuk menjelajahi, menemukan, dan larut dalam dunia musik yang memikat, semua dengan kekuatan Python di ujung jari mereka."
      ],
      "metadata": {
        "id": "qZJXOaU3vpGZ"
      }
    },
    {
      "cell_type": "code",
      "execution_count": null,
      "metadata": {
        "id": "rL_P7zYoWPEJ"
      },
      "outputs": [],
      "source": [
        "from IPython.display import Audio, display\n",
        "import os\n",
        "\n",
        "class MusicPlayer:\n",
        "    def __init__(self, music_folder_path=\"/content/sample_data\"):\n",
        "        self.music_folder_path = music_folder_path\n",
        "        self.music_files = [file for file in os.listdir(music_folder_path) if file.endswith(\".mp3\")]\n",
        "\n",
        "    def display_music_list(self):\n",
        "        print(\"** Welcome to Pywave **\")\n",
        "        print(\"Daftar Musik:\")\n",
        "        for i, music_file in enumerate(self.music_files, start=1):\n",
        "            print(f\"{i}. {music_file}\")\n",
        "\n",
        "    def play_music(self, index):\n",
        "        if 1 <= index <= len(self.music_files):\n",
        "            music_file = self.music_files[index - 1]\n",
        "            music_path = os.path.join(self.music_folder_path, music_file)\n",
        "            display(Audio(filename=music_path, autoplay=True))\n",
        "        else:\n",
        "            print(\"Indeks tidak valid.\")\n",
        "\n",
        "player = MusicPlayer()\n",
        "\n",
        "player.display_music_list()\n",
        "\n",
        "music_index = int(input(\"Pilih nomor musik yang ingin diputar: \"))\n",
        "player.play_music(music_index)"
      ]
    }
  ],
  "metadata": {
    "colab": {
      "provenance": []
    },
    "kernelspec": {
      "display_name": "Python 3",
      "name": "python3"
    },
    "language_info": {
      "name": "python"
    }
  },
  "nbformat": 4,
  "nbformat_minor": 0
}
